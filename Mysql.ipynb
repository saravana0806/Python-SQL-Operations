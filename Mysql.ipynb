{
 "cells": [
  {
   "cell_type": "code",
   "execution_count": 22,
   "id": "3e2a4d89-5003-441a-80c8-f104e79c8da9",
   "metadata": {},
   "outputs": [],
   "source": [
    "import mysql.connector\n",
    "\n",
    "# Replace 'your_username', 'your_password', 'your_database', and 'your_host' with your MySQL server details\n",
    "config = {\n",
    "    'user': 'rootname',\n",
    "    'password': 'root',\n",
    "    'host': 'localhost',\n",
    "    #'database': 'your_database',\n",
    "    'raise_on_warnings': True\n",
    "}\n",
    "\n",
    "# services.msc"
   ]
  },
  {
   "cell_type": "code",
   "execution_count": 23,
   "id": "808eb89b-d313-4c8c-9e0a-f35431609318",
   "metadata": {},
   "outputs": [
    {
     "name": "stdout",
     "output_type": "stream",
     "text": [
      "Connected to MySQL Server\n",
      "Connection closed\n"
     ]
    }
   ],
   "source": [
    "try:\n",
    "    connection = mysql.connector.connect(**config)\n",
    "    if connection.is_connected():\n",
    "        print('Connected to MySQL Server')\n",
    "    cursor = connection.cursor()\n",
    "\n",
    "    #query = \"CREATE DATABASE students;\"\n",
    "    #cursor.execute(query)\n",
    "\n",
    "    #results = cursor.fetchall()\n",
    "    \n",
    "    \n",
    "\n",
    "\n",
    "except mysql.connector.Error as err:\n",
    "    print(f\"Error: {err}\")\n",
    "\n",
    "finally:\n",
    "    if 'connection' in locals() and connection.is_connected():\n",
    "        connection.close()\n",
    "        print('Connection closed')"
   ]
  }
 ],
 "metadata": {
  "kernelspec": {
   "display_name": "Python 3 (ipykernel)",
   "language": "python",
   "name": "python3"
  },
  "language_info": {
   "codemirror_mode": {
    "name": "ipython",
    "version": 3
   },
   "file_extension": ".py",
   "mimetype": "text/x-python",
   "name": "python",
   "nbconvert_exporter": "python",
   "pygments_lexer": "ipython3",
   "version": "3.11.5"
  }
 },
 "nbformat": 4,
 "nbformat_minor": 5
}
